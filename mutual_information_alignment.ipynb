{
 "cells": [
  {
   "cell_type": "markdown",
   "metadata": {},
   "source": [
    "# Import packages"
   ]
  },
  {
   "cell_type": "code",
   "execution_count": null,
   "metadata": {},
   "outputs": [],
   "source": [
    "import sys\n",
    "\n",
    "import h5py\n",
    "import numpy as np\n",
    "from skimage import transform as tf\n",
    "\n",
    "sys.path.insert(0, '/dls_sw/i14/scripts/i14_python/xanes_utility')\n",
    "# TODO: This is currently a workaround to not having a system-wide conda env\n",
    "# with a compatible version of Hyperspy installed in it, and it's dependent on a\n",
    "# local clone of the git repo which can be changed at any time, so it's not a\n",
    "# robust solution...\n",
    "sys.path.insert(0, '/dls_sw/i14/scripts/i14_python/tomo_utility/hyperspy')\n",
    "import hyperspy.api as hs\n",
    "from mutual import estimate_shift2D_mutual"
   ]
  },
  {
   "cell_type": "markdown",
   "metadata": {},
   "source": [
    "# Load the combined data"
   ]
  },
  {
   "cell_type": "code",
   "execution_count": null,
   "metadata": {},
   "outputs": [],
   "source": [
    "\n",
    "# Define input data file\n",
    "in_file = ''\n",
    "\n",
    "with h5py.File(in_file, 'r') as f:\n",
    "    data = f['/entry/tomo_entry/data/data'][:, :, :]\n",
    "    rot_angles = f['/entry/tomo_entry/data/rotation_angle'][:]\n",
    "    im_key = f['/entry/tomo_entry/instrument/detector/image_key'][:]"
   ]
  },
  {
   "cell_type": "markdown",
   "metadata": {},
   "source": [
    "# Calculate shifts"
   ]
  },
  {
   "cell_type": "code",
   "execution_count": null,
   "metadata": {},
   "outputs": [],
   "source": [
    "\n",
    "# Create Signal2D objct to hold the data\n",
    "signal = hs.signals.Signal2D(data)\n",
    "\n",
    "# Get the shifts that are needed to align the data\n",
    "reference = 'current'\n",
    "roi = [] # left, right, top, bottom\n",
    "shifts, max_vals = \\\n",
    "    estimate_shift2D_mutual(signal, reference=reference, roi=roi)\n",
    "\n",
    "# OPTIONAL: Save shifts to a file\n",
    "#shifts_file_path = ''\n",
    "#np.save(shifts_file_path, shifts)"
   ]
  },
  {
   "cell_type": "markdown",
   "metadata": {},
   "source": [
    "# Apply shifts to data"
   ]
  },
  {
   "cell_type": "code",
   "execution_count": null,
   "metadata": {},
   "outputs": [],
   "source": [
    "shifted_data = np.zeros(shape=data.shape)\n",
    "\n",
    "# Loop through all projections and shift them accordingly\n",
    "for i in range(data.shape[0]):\n",
    "    x_shift = shifts[i][1]\n",
    "    y_shift = shifts[i][0]\n",
    "    transformation = \\\n",
    "        tf.SimilarityTransform(translation=(x_shift, y_shift))\n",
    "    transformed_image = tf.warp(data[i], transformation, order=0)\n",
    "    shifted_data[i,:,:] = transformed_image"
   ]
  },
  {
   "cell_type": "markdown",
   "metadata": {},
   "source": [
    "# Save aligned data"
   ]
  },
  {
   "cell_type": "code",
   "execution_count": null,
   "metadata": {},
   "outputs": [],
   "source": [
    "\n",
    "# Define path for output file\n",
    "out_file_path = ''\n",
    "\n",
    "with h5py.File(out_file_path, 'a') as f_out:\n",
    "    f_out.create_dataset('/entry/tomo_entry/data/data', data=shifted_data)\n",
    "    f_out.create_dataset('/entry/tomo_entry/data/rotation_angle',\n",
    "                            data=rot_angles)\n",
    "    f_out.create_dataset('/entry/tomo_entry/instrument/detector/image_key',\n",
    "                            data=im_key)"
   ]
  }
 ],
 "metadata": {
  "interpreter": {
   "hash": "0ede2997bc173cd3a824061606123ce72288b4f58a05b975fbfe6ae27ad6a787"
  },
  "kernelspec": {
   "display_name": "Python 3.7.3 64-bit ('python3.7': conda)",
   "name": "python3"
  },
  "language_info": {
   "codemirror_mode": {
    "name": "ipython",
    "version": 3
   },
   "file_extension": ".py",
   "mimetype": "text/x-python",
   "name": "python",
   "nbconvert_exporter": "python",
   "pygments_lexer": "ipython3",
   "version": "3.7.3"
  },
  "orig_nbformat": 4
 },
 "nbformat": 4,
 "nbformat_minor": 2
}
